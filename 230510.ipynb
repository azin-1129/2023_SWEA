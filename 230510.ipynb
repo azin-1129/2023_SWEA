{
  "nbformat": 4,
  "nbformat_minor": 0,
  "metadata": {
    "colab": {
      "provenance": [],
      "collapsed_sections": [
        "Eu51YiKXKFDC"
      ]
    },
    "kernelspec": {
      "name": "python3",
      "display_name": "Python 3"
    },
    "language_info": {
      "name": "python"
    }
  },
  "cells": [
    {
      "cell_type": "markdown",
      "source": [
        "# D2"
      ],
      "metadata": {
        "id": "LffF60p20V3l"
      }
    },
    {
      "cell_type": "markdown",
      "source": [
        "## 2001. 파리 퇴치"
      ],
      "metadata": {
        "id": "62A1g0wI0XL0"
      }
    },
    {
      "cell_type": "code",
      "source": [
        "# import sys\n",
        "# sys.stdin=open('/content/input.txt', 'r')\n",
        "\n",
        "T=int(input())\n",
        "\n",
        "for t in range(1,T+1):\n",
        "    N,M=map(int,input().split())\n",
        "\n",
        "    win=[]\n",
        "    res=0 # 죽은 파리 수\n",
        "    \n",
        "    for _ in range(N):\n",
        "        win.append(list(map(int,input().split())))\n",
        "    \n",
        "    for x in range(N-M+1):\n",
        "        for y in range(N-M+1):\n",
        "            #temp=win[x][y]+win[x][y+1]+win[x+1][y]+win[x+1][y+1]\n",
        "            tmp=win[x:x+M]\n",
        "            temp=0 # 부분합\n",
        "            for tp in tmp:\n",
        "                print(tp[y:y+M])\n",
        "                temp+=sum(tp[y:y+M])\n",
        "\n",
        "            print(temp)\n",
        "            \n",
        "            if temp>res:\n",
        "                res=temp\n",
        "            \n",
        "            print('--------')\n",
        "\n",
        "    print(f'#{t} {res}')"
      ],
      "metadata": {
        "colab": {
          "base_uri": "https://localhost:8080/"
        },
        "id": "SaSH_IYo0Zen",
        "outputId": "61e10b79-0b33-498e-d228-6a9aee26ab4d"
      },
      "execution_count": null,
      "outputs": [
        {
          "output_type": "stream",
          "name": "stdout",
          "text": [
            "1\n",
            "8 6\n",
            "5 27 4 27 24 9 17 27\n",
            "22 3 2 17 23 15 16 20\n",
            "27 27 24 27 9 15 29 26\n",
            "9 8 4 3 8 15 28 28\n",
            "27 25 24 7 16 29 20 20\n",
            "17 6 22 14 2 14 8 27\n",
            "19 13 6 4 11 10 6 10\n",
            "14 12 13 4 8 2 25 4\n",
            "[5, 27, 4, 27, 24, 9]\n",
            "[22, 3, 2, 17, 23, 15]\n",
            "[27, 27, 24, 27, 9, 15]\n",
            "[9, 8, 4, 3, 8, 15]\n",
            "[27, 25, 24, 7, 16, 29]\n",
            "[17, 6, 22, 14, 2, 14]\n",
            "557\n",
            "--------\n",
            "[27, 4, 27, 24, 9, 17]\n",
            "[3, 2, 17, 23, 15, 16]\n",
            "[27, 24, 27, 9, 15, 29]\n",
            "[8, 4, 3, 8, 15, 28]\n",
            "[25, 24, 7, 16, 29, 20]\n",
            "[6, 22, 14, 2, 14, 8]\n",
            "568\n",
            "--------\n",
            "[22, 3, 2, 17, 23, 15]\n",
            "[27, 27, 24, 27, 9, 15]\n",
            "[9, 8, 4, 3, 8, 15]\n",
            "[27, 25, 24, 7, 16, 29]\n",
            "[17, 6, 22, 14, 2, 14]\n",
            "[19, 13, 6, 4, 11, 10]\n",
            "524\n",
            "--------\n",
            "[3, 2, 17, 23, 15, 16]\n",
            "[27, 24, 27, 9, 15, 29]\n",
            "[8, 4, 3, 8, 15, 28]\n",
            "[25, 24, 7, 16, 29, 20]\n",
            "[6, 22, 14, 2, 14, 8]\n",
            "[13, 6, 4, 11, 10, 6]\n",
            "510\n",
            "--------\n",
            "#1 568\n"
          ]
        }
      ]
    },
    {
      "cell_type": "markdown",
      "source": [
        "## 1926. 간단한 369게임"
      ],
      "metadata": {
        "id": "xW0FHYJ0F0L7"
      }
    },
    {
      "cell_type": "code",
      "source": [
        "num=int(input())\n",
        "res=[]\n",
        "\n",
        "for i in range(1,num+1):\n",
        "    str_i=str(i)\n",
        "    if \"3\" in str_i or \"6\" in str_i or \"9\" in str_i:\n",
        "        temp='-'*(str_i.count(\"3\")+str_i.count(\"6\")+str_i.count(\"9\"))\n",
        "    else:\n",
        "        temp=str_i\n",
        "    \n",
        "    res.append(temp)\n",
        "\n",
        "print(' '.join(res))"
      ],
      "metadata": {
        "colab": {
          "base_uri": "https://localhost:8080/"
        },
        "id": "aNLOfRLIF1M9",
        "outputId": "593ed260-115c-420f-cfc5-d9989809e255"
      },
      "execution_count": null,
      "outputs": [
        {
          "output_type": "stream",
          "name": "stdout",
          "text": [
            "36\n",
            "1 2 - 4 5 - 7 8 - 10 11 12 - 14 15 - 17 18 - 20 21 22 - 24 25 - 27 28 - - - - -- - - --\n"
          ]
        }
      ]
    },
    {
      "cell_type": "markdown",
      "source": [
        "## 1954. 달팽이 숫자"
      ],
      "metadata": {
        "id": "vv7kIE8qNDtC"
      }
    },
    {
      "cell_type": "code",
      "source": [
        "T=int(input())\n",
        "\n",
        "for t in range(1,T+1):\n",
        "    N=int(input())\n",
        "    x,y=0,0\n",
        "\n",
        "    board=[[0]*N for _ in range(N)]\n",
        "\n",
        "    dx=[0,1,0,-1]\n",
        "    dy=[1,0,-1,0]\n",
        "\n",
        "    board[0][0]=1\n",
        "    dir_now=0 # 시작 위치\n",
        "    dir_cnt=1\n",
        "    while True:\n",
        "        #print('dir',dir_now,'탐색중')\n",
        "        if dir_now==4:\n",
        "            dir_now=0 # 방향 전환 컨트롤\n",
        "        if dir_cnt==4:\n",
        "            break\n",
        "\n",
        "        nx,ny=x+dx[dir_now], y+dy[dir_now]\n",
        "        #print(nx,ny)\n",
        "        if nx==N or nx<0 or ny==N or ny<0:\n",
        "            dir_cnt+=1 # 방향 전환 횟수\n",
        "            dir_now+=1 # 방향 전환\n",
        "            #print('해당 dir은 갈 수 없습니다.')\n",
        "            continue # 못 가는 방향\n",
        "\n",
        "        if board[nx][ny]==0: # 갈 수 있음\n",
        "            board[nx][ny]=board[x][y]+1\n",
        "            \n",
        "            x=nx\n",
        "            y=ny # 좌표 이동\n",
        "            dir_cnt=0 # 탐색 횟수 초기화\n",
        "            #print('이동 후 카운트를 초기화합니다.')\n",
        "        else:\n",
        "            dir_cnt+=1\n",
        "            dir_now+=1\n",
        "            #print('해당 dir은 숫자가 있습니다.')\n",
        "\n",
        "    print(f'#{t}')\n",
        "    for b in board:\n",
        "        print(*b)"
      ],
      "metadata": {
        "colab": {
          "base_uri": "https://localhost:8080/"
        },
        "id": "gDKt_rAjNFPg",
        "outputId": "3b99b348-a5c6-407a-87eb-39307e71083d"
      },
      "execution_count": null,
      "outputs": [
        {
          "output_type": "stream",
          "name": "stdout",
          "text": [
            "2\n",
            "3\n",
            "#1\n",
            "1 2 3\n",
            "8 9 4\n",
            "7 6 5\n",
            "4\n",
            "#2\n",
            "1 2 3 4\n",
            "12 13 14 5\n",
            "11 16 15 6\n",
            "10 9 8 7\n"
          ]
        }
      ]
    },
    {
      "cell_type": "markdown",
      "source": [
        "## 1984. 중간 평균값 구하기"
      ],
      "metadata": {
        "id": "SVD-TdkTT_8W"
      }
    },
    {
      "cell_type": "code",
      "source": [
        "T=int(input())\n",
        "\n",
        "for t in range(1,T+1):\n",
        "    nums=list(map(int,input().split()))\n",
        "    nums.remove(max(nums))\n",
        "    nums.remove(min(nums))\n",
        "\n",
        "    print('#%d %.f'%(t, sum(nums)/(len(nums))))"
      ],
      "metadata": {
        "colab": {
          "base_uri": "https://localhost:8080/"
        },
        "id": "2pQntigeUA-r",
        "outputId": "79b46dbe-8f88-4cc9-d96f-631fd79b3784"
      },
      "execution_count": null,
      "outputs": [
        {
          "output_type": "stream",
          "name": "stdout",
          "text": [
            "3\n",
            "3 17 1 39 8 41 2 32 99 2\n",
            "#1 18\n",
            "22 8 5 123 7 2 63 7 3 46\n",
            "#2 20\n",
            "6 63 2 3 58 76 21 33 8 1\n",
            "#3 24\n"
          ]
        }
      ]
    },
    {
      "cell_type": "markdown",
      "source": [
        "## 1974. 스도쿠 검증"
      ],
      "metadata": {
        "id": "pkfLsDhPb73C"
      }
    },
    {
      "cell_type": "code",
      "source": [],
      "metadata": {
        "id": "Ue9ZQ2fEb8-v"
      },
      "execution_count": null,
      "outputs": []
    },
    {
      "cell_type": "markdown",
      "source": [
        "---"
      ],
      "metadata": {
        "id": "-kkcRdUsF11c"
      }
    },
    {
      "cell_type": "markdown",
      "source": [
        "# D3\n",
        "## 1244. [S/W 문제해결 응용] 2일차 - 최대 상금(실패)"
      ],
      "metadata": {
        "id": "Eu51YiKXKFDC"
      }
    },
    {
      "cell_type": "code",
      "execution_count": null,
      "metadata": {
        "colab": {
          "base_uri": "https://localhost:8080/"
        },
        "id": "FC5TCbj_KB4Q",
        "outputId": "a63f98f9-a7a4-4b1c-b721-6c6e629f92de"
      },
      "outputs": [
        {
          "output_type": "stream",
          "name": "stdout",
          "text": [
            "1\n",
            "78466 2\n",
            "min: 0 max: 1\n",
            "[8, 7, 4, 6, 6]\n",
            "min: 1 max: 0\n",
            "[7, 8, 4, 6, 6]\n",
            "#1 78466\n"
          ]
        }
      ],
      "source": [
        "T=int(input())\n",
        "for t in range(1,T+1):\n",
        "    board, num=input().split()\n",
        "\n",
        "    board=list(map(int,board))\n",
        "    #min_idx=0 # left\n",
        "\n",
        "    # 왼쪽 min이랑 오른쪽 max 교체\n",
        "    for n in range(int(num)): # 숫자 교환\n",
        "        #min_idx=board.index(min(board)) # left\n",
        "        min_idx=0\n",
        "        max_idx=len(board)-board[::-1].index(max(board[::-1]))-1 # right\n",
        "\n",
        "        for i in range(len(board)):\n",
        "            if board[i]<board[max_idx]:\n",
        "                min_idx=i\n",
        "                break\n",
        "\n",
        "        print('min:',min_idx, 'max:', max_idx)\n",
        "        \n",
        "\n",
        "        board[min_idx], board[max_idx]=board[max_idx], board[min_idx]\n",
        "        print(board)\n",
        "\n",
        "    print(f'#{t} {\"\".join(map(str,board))}')"
      ]
    },
    {
      "cell_type": "markdown",
      "source": [
        "다들 BFS나 완전 탐색으로 푸신 듯."
      ],
      "metadata": {
        "id": "ad7FIydZZned"
      }
    },
    {
      "cell_type": "code",
      "source": [
        "def change(numbers, cnt):\n",
        "    global result\n",
        "\n",
        "    temp=''\n",
        "\n",
        "    for number in numbers:\n",
        "        temp+=number\n",
        "\n",
        "    if int(temp) in result[cnt]:\n",
        "        return # 중복 X\n",
        "    else:\n",
        "        result[cnt].append(int(temp))\n",
        "\n",
        "    if cnt==0:\n",
        "        return\n",
        "\n",
        "    n=len(numbers)\n",
        "\n",
        "    for i in range(n):\n",
        "        for j in range(i+1,n):\n",
        "            numbers[i], numbers[j]=numbers[j], numbers[i]\n",
        "\n",
        "            change(numbers, cnt-1)\n",
        "\n",
        "            numbers[i], numbers[j]=numbers[j], numbers[i]\n",
        "\n",
        "#res=max(result[0])"
      ],
      "metadata": {
        "id": "2Yuoc7LbL_QC"
      },
      "execution_count": null,
      "outputs": []
    },
    {
      "cell_type": "markdown",
      "source": [
        "## 1208. [S/W 문제해결 기본] 1일차 - Flatten"
      ],
      "metadata": {
        "id": "g0BW09N0ABrY"
      }
    },
    {
      "cell_type": "code",
      "source": [
        "for t in range(1,11):\n",
        "    cnt=int(input())\n",
        "\n",
        "    boxes=list(map(int,input().split()))\n",
        "\n",
        "    for i in range(cnt):\n",
        "        boxes[boxes.index(min(boxes))]+=1\n",
        "        boxes[boxes.index(max(boxes))]-=1\n",
        "\n",
        "    print(f'#{t} {max(boxes)-min(boxes)}')"
      ],
      "metadata": {
        "colab": {
          "base_uri": "https://localhost:8080/",
          "height": 543
        },
        "id": "0fSU7viOamgU",
        "outputId": "d2a66ca0-2775-4a88-8f43-8963e6055f4f"
      },
      "execution_count": null,
      "outputs": [
        {
          "output_type": "stream",
          "name": "stdout",
          "text": [
            "834\n",
            "42 68 35 1 70 25 79 59 63 65 6 46 82 28 62 92 96 43 28 37 92 5 3 54 93 83 22 17 19 96 48 27 72 39 70 13 68 100 36 95 4 12 23 34 74 65 42 12 54 69 48 45 63 58 38 60 24 42 30 79 17 36 91 43 89 7 41 43 65 49 47 6 91 30 71 51 7 2 94 49 30 24 85 55 57 41 67 77 32 9 45 40 27 24 38 39 19 83 30 42\n",
            "13\n",
            "617\n",
            "16 40 59 5 31 78 7 74 87 22 46 25 73 71 30 78 74 98 13 87 91 62 37 56 68 56 75 32 53 51 51 42 25 67 31 8 92 8 38 58 88 54 84 46 10 10 59 22 89 23 47 7 31 14 69 1 92 63 56 11 60 25 38 49 84 96 42 3 51 92 37 75 21 97 22 49 100 69 85 82 35 54 100 19 39 1 89 28 68 29 94 49 84 8 22 11 18 14 15 10\n",
            "32\n"
          ]
        },
        {
          "output_type": "error",
          "ename": "KeyboardInterrupt",
          "evalue": "ignored",
          "traceback": [
            "\u001b[0;31m---------------------------------------------------------------------------\u001b[0m",
            "\u001b[0;31mKeyboardInterrupt\u001b[0m                         Traceback (most recent call last)",
            "\u001b[0;32m<ipython-input-48-0d487a105c9e>\u001b[0m in \u001b[0;36m<cell line: 1>\u001b[0;34m()\u001b[0m\n\u001b[1;32m      1\u001b[0m \u001b[0;32mfor\u001b[0m \u001b[0m_\u001b[0m \u001b[0;32min\u001b[0m \u001b[0mrange\u001b[0m\u001b[0;34m(\u001b[0m\u001b[0;36m10\u001b[0m\u001b[0;34m)\u001b[0m\u001b[0;34m:\u001b[0m\u001b[0;34m\u001b[0m\u001b[0;34m\u001b[0m\u001b[0m\n\u001b[0;32m----> 2\u001b[0;31m     \u001b[0mcnt\u001b[0m\u001b[0;34m=\u001b[0m\u001b[0mint\u001b[0m\u001b[0;34m(\u001b[0m\u001b[0minput\u001b[0m\u001b[0;34m(\u001b[0m\u001b[0;34m)\u001b[0m\u001b[0;34m)\u001b[0m\u001b[0;34m\u001b[0m\u001b[0;34m\u001b[0m\u001b[0m\n\u001b[0m\u001b[1;32m      3\u001b[0m \u001b[0;34m\u001b[0m\u001b[0m\n\u001b[1;32m      4\u001b[0m     \u001b[0mboxes\u001b[0m\u001b[0;34m=\u001b[0m\u001b[0mlist\u001b[0m\u001b[0;34m(\u001b[0m\u001b[0mmap\u001b[0m\u001b[0;34m(\u001b[0m\u001b[0mint\u001b[0m\u001b[0;34m,\u001b[0m\u001b[0minput\u001b[0m\u001b[0;34m(\u001b[0m\u001b[0;34m)\u001b[0m\u001b[0;34m.\u001b[0m\u001b[0msplit\u001b[0m\u001b[0;34m(\u001b[0m\u001b[0;34m)\u001b[0m\u001b[0;34m)\u001b[0m\u001b[0;34m)\u001b[0m\u001b[0;34m\u001b[0m\u001b[0;34m\u001b[0m\u001b[0m\n\u001b[1;32m      5\u001b[0m \u001b[0;34m\u001b[0m\u001b[0m\n",
            "\u001b[0;32m/usr/local/lib/python3.10/dist-packages/ipykernel/kernelbase.py\u001b[0m in \u001b[0;36mraw_input\u001b[0;34m(self, prompt)\u001b[0m\n\u001b[1;32m    849\u001b[0m                 \u001b[0;34m\"raw_input was called, but this frontend does not support input requests.\"\u001b[0m\u001b[0;34m\u001b[0m\u001b[0;34m\u001b[0m\u001b[0m\n\u001b[1;32m    850\u001b[0m             )\n\u001b[0;32m--> 851\u001b[0;31m         return self._input_request(str(prompt),\n\u001b[0m\u001b[1;32m    852\u001b[0m             \u001b[0mself\u001b[0m\u001b[0;34m.\u001b[0m\u001b[0m_parent_ident\u001b[0m\u001b[0;34m,\u001b[0m\u001b[0;34m\u001b[0m\u001b[0;34m\u001b[0m\u001b[0m\n\u001b[1;32m    853\u001b[0m             \u001b[0mself\u001b[0m\u001b[0;34m.\u001b[0m\u001b[0m_parent_header\u001b[0m\u001b[0;34m,\u001b[0m\u001b[0;34m\u001b[0m\u001b[0;34m\u001b[0m\u001b[0m\n",
            "\u001b[0;32m/usr/local/lib/python3.10/dist-packages/ipykernel/kernelbase.py\u001b[0m in \u001b[0;36m_input_request\u001b[0;34m(self, prompt, ident, parent, password)\u001b[0m\n\u001b[1;32m    893\u001b[0m             \u001b[0;32mexcept\u001b[0m \u001b[0mKeyboardInterrupt\u001b[0m\u001b[0;34m:\u001b[0m\u001b[0;34m\u001b[0m\u001b[0;34m\u001b[0m\u001b[0m\n\u001b[1;32m    894\u001b[0m                 \u001b[0;31m# re-raise KeyboardInterrupt, to truncate traceback\u001b[0m\u001b[0;34m\u001b[0m\u001b[0;34m\u001b[0m\u001b[0m\n\u001b[0;32m--> 895\u001b[0;31m                 \u001b[0;32mraise\u001b[0m \u001b[0mKeyboardInterrupt\u001b[0m\u001b[0;34m(\u001b[0m\u001b[0;34m\"Interrupted by user\"\u001b[0m\u001b[0;34m)\u001b[0m \u001b[0;32mfrom\u001b[0m \u001b[0;32mNone\u001b[0m\u001b[0;34m\u001b[0m\u001b[0;34m\u001b[0m\u001b[0m\n\u001b[0m\u001b[1;32m    896\u001b[0m             \u001b[0;32mexcept\u001b[0m \u001b[0mException\u001b[0m \u001b[0;32mas\u001b[0m \u001b[0me\u001b[0m\u001b[0;34m:\u001b[0m\u001b[0;34m\u001b[0m\u001b[0;34m\u001b[0m\u001b[0m\n\u001b[1;32m    897\u001b[0m                 \u001b[0mself\u001b[0m\u001b[0;34m.\u001b[0m\u001b[0mlog\u001b[0m\u001b[0;34m.\u001b[0m\u001b[0mwarning\u001b[0m\u001b[0;34m(\u001b[0m\u001b[0;34m\"Invalid Message:\"\u001b[0m\u001b[0;34m,\u001b[0m \u001b[0mexc_info\u001b[0m\u001b[0;34m=\u001b[0m\u001b[0;32mTrue\u001b[0m\u001b[0;34m)\u001b[0m\u001b[0;34m\u001b[0m\u001b[0;34m\u001b[0m\u001b[0m\n",
            "\u001b[0;31mKeyboardInterrupt\u001b[0m: Interrupted by user"
          ]
        }
      ]
    },
    {
      "cell_type": "code",
      "source": [],
      "metadata": {
        "id": "vNy0Myb4E1Z9"
      },
      "execution_count": null,
      "outputs": []
    }
  ]
}